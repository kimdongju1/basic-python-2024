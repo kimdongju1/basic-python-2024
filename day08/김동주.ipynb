{
 "cells": [
  {
   "cell_type": "markdown",
   "metadata": {},
   "source": [
    "## 1번 문제"
   ]
  },
  {
   "cell_type": "code",
   "execution_count": 57,
   "metadata": {},
   "outputs": [
    {
     "name": "stdout",
     "output_type": "stream",
     "text": [
      "반지름의 값을 입력하시오.\n",
      "원의 넓이는: 314.1592\n"
     ]
    }
   ],
   "source": [
    "import math\n",
    "\n",
    "PI = 3.141592\n",
    "print('반지름의 값을 입력하시오.')\n",
    "x = (float(input()))\n",
    "\n",
    "area = PI * x ** 2\n",
    "\n",
    "print(f'원의 넓이는:', area)"
   ]
  },
  {
   "cell_type": "markdown",
   "metadata": {},
   "source": [
    "## 2번 문제"
   ]
  },
  {
   "cell_type": "code",
   "execution_count": 61,
   "metadata": {},
   "outputs": [
    {
     "name": "stdout",
     "output_type": "stream",
     "text": [
      "Mars의 한글 이름은 화성입니다.\n"
     ]
    }
   ],
   "source": [
    "planet_dict = { 'Mercury': '수성' , 'Venus': '금성' , 'Earth': '지구', 'Mars': '화성', 'Jupiter': '목성', 'Saturn': '토성', 'Uranus': '천왕성', 'Neptune': '해왕성'}\n",
    "\n",
    "planet_name = input(\"행성의 영어 이름을 입력하시오.\")\n",
    "\n",
    "if planet_name in planet_dict:\n",
    "    print(f'{planet_name}의 한글 이름은 {planet_dict[planet_name]}입니다.')\n",
    "\n",
    "else:\n",
    "    print('해당하는 행성 이름을 찾을 수 없습니다.')"
   ]
  },
  {
   "cell_type": "markdown",
   "metadata": {},
   "source": [
    "## 3번 문제"
   ]
  },
  {
   "cell_type": "code",
   "execution_count": 62,
   "metadata": {},
   "outputs": [
    {
     "name": "stdout",
     "output_type": "stream",
     "text": [
      "입력한 영어 문자열의 단어 수: 5\n",
      "변경된 문자열: i'm going TO leave SUPERMAKET\n"
     ]
    }
   ],
   "source": [
    "def process_string(input_string):\n",
    "    words = input_string.split()\n",
    "\n",
    "    print('입력한 영어 문자열의 단어 수:', len(words))\n",
    "\n",
    "    modified_words = []\n",
    "    for word in words:\n",
    "        if len(word) % 2 == 0:\n",
    "            modified_words.append(word.upper())\n",
    "        else:\n",
    "            modified_words.append(word)\n",
    "    modified_string = ' '.join(modified_words)\n",
    "    print('변경된 문자열:', modified_string)\n",
    "\n",
    "input_string = input(\"영어 문자열을 입력하세요: \")\n",
    "\n",
    "process_string(input_string)"
   ]
  },
  {
   "cell_type": "markdown",
   "metadata": {},
   "source": [
    "## 4번 문제"
   ]
  },
  {
   "cell_type": "code",
   "execution_count": 56,
   "metadata": {},
   "outputs": [
    {
     "name": "stdout",
     "output_type": "stream",
     "text": [
      "https://www.google.com/ 웹사이트가 열렸습니다.\n"
     ]
    }
   ],
   "source": [
    "import urllib.request\n",
    "\n",
    "def open_website(name):\n",
    "    req = (f'https://www.{name}.com/')\n",
    "\n",
    "    try:\n",
    "        urllib.request.urlopen(req)\n",
    "        print(f'{req} 웹사이트가 열렸습니다.')\n",
    "    except urllib.error.URLError:\n",
    "        print(\"웹사이트를 열 수 없습니다.\")\n",
    "\n",
    "name = input('열고 싶은 웹사이트의 영문 이름을 입력하세요: ')\n",
    "\n",
    "open_website(name)"
   ]
  },
  {
   "cell_type": "markdown",
   "metadata": {},
   "source": [
    "## 5번 문제"
   ]
  },
  {
   "cell_type": "code",
   "execution_count": 4,
   "metadata": {},
   "outputs": [
    {
     "name": "stdout",
     "output_type": "stream",
     "text": [
      "구구단의 단 번호를 입력하시오.\n",
      "4단 ---->\n",
      "4 x 1 =  4\n",
      "4 x 2 =  8\n",
      "4 x 3 = 12\n",
      "4 x 4 = 16\n",
      "4 x 5 = 20\n",
      "4 x 6 = 24\n",
      "4 x 7 = 28\n",
      "4 x 8 = 32\n",
      "4 x 9 = 36\n"
     ]
    }
   ],
   "source": [
    "print('구구단의 단 번호를 입력하시오.')\n",
    "x = int(input())\n",
    "\n",
    "if x < 2 or x > 9:\n",
    "    print(\"잘못된 입력입니다. 2부터 9까지 정수를 입력해주세요.\")\n",
    "else:\n",
    "    print(f'{x}단 ---->')\n",
    "    for i in range(1, 10):\n",
    "        print(f'{x} x {i} = {x*i:2d}')\n",
    "    "
   ]
  }
 ],
 "metadata": {
  "kernelspec": {
   "display_name": "Python 3",
   "language": "python",
   "name": "python3"
  },
  "language_info": {
   "codemirror_mode": {
    "name": "ipython",
    "version": 3
   },
   "file_extension": ".py",
   "mimetype": "text/x-python",
   "name": "python",
   "nbconvert_exporter": "python",
   "pygments_lexer": "ipython3",
   "version": "3.11.5"
  }
 },
 "nbformat": 4,
 "nbformat_minor": 2
}
